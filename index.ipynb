{
 "cells": [
  {
   "cell_type": "code",
   "execution_count": 24,
   "id": "f0de7c37",
   "metadata": {},
   "outputs": [
    {
     "name": "stdout",
     "output_type": "stream",
     "text": [
      "Requirement already satisfied: selenium in c:\\users\\cyrus\\anaconda3\\envs\\learn-env\\lib\\site-packages (4.27.1)\n",
      "Note: you may need to restart the kernel to use updated packages.\n",
      "Requirement already satisfied: beautifulsoup4 in c:\\users\\cyrus\\anaconda3\\envs\\learn-env\\lib\\site-packages (4.9.3)\n",
      "Requirement already satisfied: urllib3[socks]<3,>=1.26 in c:\\users\\cyrus\\anaconda3\\envs\\learn-env\\lib\\site-packages (from selenium) (2.2.3)\n",
      "Requirement already satisfied: certifi>=2021.10.8 in c:\\users\\cyrus\\anaconda3\\envs\\learn-env\\lib\\site-packages (from selenium) (2025.6.15)\n",
      "Requirement already satisfied: typing_extensions~=4.9 in c:\\users\\cyrus\\anaconda3\\envs\\learn-env\\lib\\site-packages (from selenium) (4.13.2)\n",
      "Requirement already satisfied: trio~=0.17 in c:\\users\\cyrus\\anaconda3\\envs\\learn-env\\lib\\site-packages (from selenium) (0.27.0)\n",
      "Requirement already satisfied: trio-websocket~=0.9 in c:\\users\\cyrus\\anaconda3\\envs\\learn-env\\lib\\site-packages (from selenium) (0.12.2)\n",
      "Requirement already satisfied: websocket-client~=1.8 in c:\\users\\cyrus\\anaconda3\\envs\\learn-env\\lib\\site-packages (from selenium) (1.8.0)\n",
      "Requirement already satisfied: soupsieve>1.2; python_version >= \"3.0\" in c:\\users\\cyrus\\anaconda3\\envs\\learn-env\\lib\\site-packages (from beautifulsoup4) (2.0.1)\n",
      "Requirement already satisfied: pysocks!=1.5.7,<2.0,>=1.5.6; extra == \"socks\" in c:\\users\\cyrus\\anaconda3\\envs\\learn-env\\lib\\site-packages (from urllib3[socks]<3,>=1.26->selenium) (1.7.1)\n",
      "Requirement already satisfied: sortedcontainers in c:\\users\\cyrus\\anaconda3\\envs\\learn-env\\lib\\site-packages (from trio~=0.17->selenium) (2.4.0)\n",
      "Requirement already satisfied: idna in c:\\users\\cyrus\\anaconda3\\envs\\learn-env\\lib\\site-packages (from trio~=0.17->selenium) (2.10)\n",
      "Requirement already satisfied: outcome in c:\\users\\cyrus\\anaconda3\\envs\\learn-env\\lib\\site-packages (from trio~=0.17->selenium) (1.3.0.post0)\n",
      "Requirement already satisfied: cffi>=1.14; os_name == \"nt\" and implementation_name != \"pypy\" in c:\\users\\cyrus\\anaconda3\\envs\\learn-env\\lib\\site-packages (from trio~=0.17->selenium) (1.14.3)\n",
      "Requirement already satisfied: exceptiongroup; python_version < \"3.11\" in c:\\users\\cyrus\\anaconda3\\envs\\learn-env\\lib\\site-packages (from trio~=0.17->selenium) (1.3.0)\n",
      "Requirement already satisfied: sniffio>=1.3.0 in c:\\users\\cyrus\\anaconda3\\envs\\learn-env\\lib\\site-packages (from trio~=0.17->selenium) (1.3.1)\n",
      "Requirement already satisfied: attrs>=23.2.0 in c:\\users\\cyrus\\anaconda3\\envs\\learn-env\\lib\\site-packages (from trio~=0.17->selenium) (25.3.0)\n",
      "Requirement already satisfied: wsproto>=0.14 in c:\\users\\cyrus\\anaconda3\\envs\\learn-env\\lib\\site-packages (from trio-websocket~=0.9->selenium) (1.2.0)\n",
      "Requirement already satisfied: pycparser in c:\\users\\cyrus\\anaconda3\\envs\\learn-env\\lib\\site-packages (from cffi>=1.14; os_name == \"nt\" and implementation_name != \"pypy\"->trio~=0.17->selenium) (2.20)\n",
      "Requirement already satisfied: h11<1,>=0.9.0 in c:\\users\\cyrus\\anaconda3\\envs\\learn-env\\lib\\site-packages (from wsproto>=0.14->trio-websocket~=0.9->selenium) (0.16.0)\n"
     ]
    }
   ],
   "source": [
    "pip install selenium beautifulsoup4"
   ]
  },
  {
   "cell_type": "code",
   "execution_count": 29,
   "id": "555cd2aa",
   "metadata": {},
   "outputs": [],
   "source": [
    "# Loading necessary drivers\n",
    "from selenium import webdriver\n",
    "from selenium.webdriver.chrome.service import Service\n",
    "from selenium.webdriver.common.by import By\n",
    "from bs4 import BeautifulSoup\n",
    "import time\n",
    "import csv"
   ]
  },
  {
   "cell_type": "code",
   "execution_count": 26,
   "id": "9c26fc19",
   "metadata": {},
   "outputs": [],
   "source": [
    "# Update path where chromedriver was saved\n",
    "CHROMEDRIVER_PATH = \"D:\\Data Science\\Data Science\\Phoenix KE Analytics Case Study\\Phoenix KE Mentorship Projects\\chromedriver.exe\"\n",
    "\n",
    "# Start chrome browser with selenium\n",
    "service = Service(CHROMEDRIVER_PATH)\n",
    "driver = webdriver.Chrome(service=service)\n",
    "\n",
    "# Open newegg graphics card search page\n",
    "url = \"https://www.newegg.com/p/pl?d=graphics+card\"\n",
    "driver.get(url)\n",
    "\n",
    "time.sleep(5)\n",
    "\n",
    "# To get HTML content after JS has loaded\n",
    "html = driver.page_source\n",
    "soup = BeautifulSoup(html,\"html.parser\")\n",
    "\n"
   ]
  },
  {
   "cell_type": "code",
   "execution_count": 32,
   "id": "21574ed5",
   "metadata": {},
   "outputs": [],
   "source": [
    "# Scrapping data, Finding all prodcut containers\n",
    "items = soup.find_all(\"div\", class_=\"item-cell\")\n",
    "\n",
    "# Create a list to store product info\n",
    "products = []\n",
    "\n",
    "#Loop through & extract info:\n",
    "for item in items:\n",
    "    title_tag = item.find(\"a\", class_=\"item-title\")\n",
    "    price_tag = item.find(\"li\", class_=\"price-current\")\n",
    "\n",
    "    if title_tag and price_tag:\n",
    "        title = title_tag.text.strip()\n",
    "        price = price_tag.text.strip()\n",
    "        products.append({\"Product Name\": title, \"Price\":price})\n"
   ]
  },
  {
   "cell_type": "code",
   "execution_count": 33,
   "id": "f0e82c5c",
   "metadata": {},
   "outputs": [
    {
     "name": "stdout",
     "output_type": "stream",
     "text": [
      "Saved 44 items to 'graphics_cards.csv'\n"
     ]
    }
   ],
   "source": [
    "# Save to CSV\n",
    "csv_filename = \"graphics_cards.csv\"\n",
    "with open(csv_filename, mode=\"w\", newline=\"\",encoding=\"utf-8\") as file:\n",
    "    writer = csv.DictWriter(file, fieldnames=[\"Product Name\", \"Price\"])\n",
    "    writer.writeheader()\n",
    "    writer.writerows(products)\n",
    "\n",
    "print(f\"Saved {len(products)} items to '{csv_filename}'\")"
   ]
  }
 ],
 "metadata": {
  "kernelspec": {
   "display_name": "learn-env",
   "language": "python",
   "name": "python3"
  },
  "language_info": {
   "codemirror_mode": {
    "name": "ipython",
    "version": 3
   },
   "file_extension": ".py",
   "mimetype": "text/x-python",
   "name": "python",
   "nbconvert_exporter": "python",
   "pygments_lexer": "ipython3",
   "version": "3.8.5"
  }
 },
 "nbformat": 4,
 "nbformat_minor": 5
}
